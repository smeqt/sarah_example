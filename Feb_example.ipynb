{
 "cells": [
  {
   "cell_type": "markdown",
   "metadata": {},
   "source": [
    "# reminder\n",
    " * update anaconda\n",
    "  - conda update conda\n",
    "  - conda update anaconda\n",
    "  \n",
    " * install periodictable\n",
    "  \n",
    "     -pip install periodictable\n",
    "  \n",
    " * ipython has changed to jupyter\n",
    "     \n",
    "     -jupyter notebook\n"
   ]
  },
  {
   "cell_type": "code",
   "execution_count": 1,
   "metadata": {
    "collapsed": false
   },
   "outputs": [],
   "source": [
    "import periodictable as PT"
   ]
  },
  {
   "cell_type": "code",
   "execution_count": 2,
   "metadata": {
    "collapsed": false
   },
   "outputs": [
    {
     "data": {
      "text/plain": [
       "periodictable.core.Element"
      ]
     },
     "execution_count": 2,
     "metadata": {},
     "output_type": "execute_result"
    }
   ],
   "source": [
    "type(PT.H)"
   ]
  },
  {
   "cell_type": "code",
   "execution_count": 3,
   "metadata": {
    "collapsed": false
   },
   "outputs": [],
   "source": [
    "water = PT.formula('H2O+ZnO3')"
   ]
  },
  {
   "cell_type": "code",
   "execution_count": 4,
   "metadata": {
    "collapsed": false
   },
   "outputs": [
    {
     "data": {
      "text/plain": [
       "{H: 0.015338928317286359, O: 0.4869608304454458, Zn: 0.4977002412372678}"
      ]
     },
     "execution_count": 4,
     "metadata": {},
     "output_type": "execute_result"
    }
   ],
   "source": [
    "water.mass_fraction"
   ]
  },
  {
   "cell_type": "code",
   "execution_count": 5,
   "metadata": {
    "collapsed": false
   },
   "outputs": [
    {
     "data": {
      "text/plain": [
       "{H: 0.015338928317286359, O: 0.4869608304454458, Zn: 0.4977002412372678}"
      ]
     },
     "execution_count": 5,
     "metadata": {},
     "output_type": "execute_result"
    }
   ],
   "source": [
    "water.mass_fraction"
   ]
  },
  {
   "cell_type": "code",
   "execution_count": 15,
   "metadata": {
    "collapsed": true
   },
   "outputs": [],
   "source": [
    "my_data = {'Al':['AlO3','Al'],'Zn':['ZnO3','Zn+H2O']}\n",
    "\n",
    "def get_compounds(element,data=None):\n",
    "    \"\"\"\n",
    "    for given element, return compounds with that element\n",
    "    \n",
    "    Parameters\n",
    "    ----------\n",
    "    element : string\n",
    "        element to query\n",
    "        \n",
    "    data : dictionary\n",
    "        data to query\n",
    "        \n",
    "    Returns\n",
    "    -------\n",
    "    output : list of compounds\n",
    "    \"\"\"\n",
    "    if data is None:\n",
    "        data = my_data\n",
    "    \n",
    "    return data[element]\n",
    "    "
   ]
  },
  {
   "cell_type": "code",
   "execution_count": 19,
   "metadata": {
    "collapsed": true
   },
   "outputs": [],
   "source": [
    "#Al oxides:\n",
    "Al_oxides = ['AlO3','AlO2+H2O']\n",
    "#acids\n",
    "Al_acids = ['Al+10wt % H2SO4']\n",
    "\n",
    "my_data_2 = {'Al':{'oxides':Al_oxides,'acids':Al_acids}}"
   ]
  },
  {
   "cell_type": "code",
   "execution_count": 6,
   "metadata": {
    "collapsed": false
   },
   "outputs": [],
   "source": [
    "from ipywidgets import widgets"
   ]
  },
  {
   "cell_type": "code",
   "execution_count": 29,
   "metadata": {
    "collapsed": false
   },
   "outputs": [],
   "source": [
    "#get all elements\n",
    "element_list = [str(v) for k,v in PT.elements._element.iteritems() if k>0]"
   ]
  },
  {
   "cell_type": "code",
   "execution_count": 30,
   "metadata": {
    "collapsed": false
   },
   "outputs": [
    {
     "data": {
      "text/plain": [
       "['H',\n",
       " 'He',\n",
       " 'Li',\n",
       " 'Be',\n",
       " 'B',\n",
       " 'C',\n",
       " 'N',\n",
       " 'O',\n",
       " 'F',\n",
       " 'Ne',\n",
       " 'Na',\n",
       " 'Mg',\n",
       " 'Al',\n",
       " 'Si',\n",
       " 'P',\n",
       " 'S',\n",
       " 'Cl',\n",
       " 'Ar',\n",
       " 'K',\n",
       " 'Ca',\n",
       " 'Sc',\n",
       " 'Ti',\n",
       " 'V',\n",
       " 'Cr',\n",
       " 'Mn',\n",
       " 'Fe',\n",
       " 'Co',\n",
       " 'Ni',\n",
       " 'Cu',\n",
       " 'Zn',\n",
       " 'Ga',\n",
       " 'Ge',\n",
       " 'As',\n",
       " 'Se',\n",
       " 'Br',\n",
       " 'Kr',\n",
       " 'Rb',\n",
       " 'Sr',\n",
       " 'Y',\n",
       " 'Zr',\n",
       " 'Nb',\n",
       " 'Mo',\n",
       " 'Tc',\n",
       " 'Ru',\n",
       " 'Rh',\n",
       " 'Pd',\n",
       " 'Ag',\n",
       " 'Cd',\n",
       " 'In',\n",
       " 'Sn',\n",
       " 'Sb',\n",
       " 'Te',\n",
       " 'I',\n",
       " 'Xe',\n",
       " 'Cs',\n",
       " 'Ba',\n",
       " 'La',\n",
       " 'Ce',\n",
       " 'Pr',\n",
       " 'Nd',\n",
       " 'Pm',\n",
       " 'Sm',\n",
       " 'Eu',\n",
       " 'Gd',\n",
       " 'Tb',\n",
       " 'Dy',\n",
       " 'Ho',\n",
       " 'Er',\n",
       " 'Tm',\n",
       " 'Yb',\n",
       " 'Lu',\n",
       " 'Hf',\n",
       " 'Ta',\n",
       " 'W',\n",
       " 'Re',\n",
       " 'Os',\n",
       " 'Ir',\n",
       " 'Pt',\n",
       " 'Au',\n",
       " 'Hg',\n",
       " 'Tl',\n",
       " 'Pb',\n",
       " 'Bi',\n",
       " 'Po',\n",
       " 'At',\n",
       " 'Rn',\n",
       " 'Fr',\n",
       " 'Ra',\n",
       " 'Ac',\n",
       " 'Th',\n",
       " 'Pa',\n",
       " 'U',\n",
       " 'Np',\n",
       " 'Pu',\n",
       " 'Am',\n",
       " 'Cm',\n",
       " 'Bk',\n",
       " 'Cf',\n",
       " 'Es',\n",
       " 'Fm',\n",
       " 'Md',\n",
       " 'No',\n",
       " 'Lr',\n",
       " 'Rf',\n",
       " 'Db',\n",
       " 'Sg',\n",
       " 'Bh',\n",
       " 'Hs',\n",
       " 'Mt',\n",
       " 'Ds',\n",
       " 'Rg',\n",
       " 'Cn',\n",
       " 'Uuq',\n",
       " 'Uuh']"
      ]
     },
     "execution_count": 30,
     "metadata": {},
     "output_type": "execute_result"
    }
   ],
   "source": [
    "element_list"
   ]
  },
  {
   "cell_type": "code",
   "execution_count": null,
   "metadata": {
    "collapsed": true
   },
   "outputs": [],
   "source": []
  }
 ],
 "metadata": {
  "kernelspec": {
   "display_name": "Python 2",
   "language": "python",
   "name": "python2"
  },
  "language_info": {
   "codemirror_mode": {
    "name": "ipython",
    "version": 2
   },
   "file_extension": ".py",
   "mimetype": "text/x-python",
   "name": "python",
   "nbconvert_exporter": "python",
   "pygments_lexer": "ipython2",
   "version": "2.7.11"
  }
 },
 "nbformat": 4,
 "nbformat_minor": 0
}
