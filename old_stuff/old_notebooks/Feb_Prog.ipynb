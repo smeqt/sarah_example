{
 "cells": [
  {
   "cell_type": "code",
   "execution_count": 58,
   "metadata": {
    "collapsed": true
   },
   "outputs": [],
   "source": [
    "import periodictable as PT"
   ]
  },
  {
   "cell_type": "code",
   "execution_count": 59,
   "metadata": {
    "collapsed": true
   },
   "outputs": [],
   "source": [
    "from ipywidgets import *\n",
    "\n",
    "import ipywidgets as widgets"
   ]
  },
  {
   "cell_type": "code",
   "execution_count": 60,
   "metadata": {
    "collapsed": false
   },
   "outputs": [],
   "source": [
    "\"\"\"\n",
    "Define multiple variables that store info a/b elements & their oxides, acids, and salts\n",
    "\n",
    "Create dictionary, my_data, w/ keys Al, Zn, and Fe w/ corresponding oxides, acids, salts\n",
    "\"\"\"\n",
    "\n",
    "Al_Oxides = ['Al2O3', 'AlO2 + H2O']\n",
    "Al_Acids = ['Al+H2SO4']\n",
    "Al_Salts = ['Al2(SO4)3', 'AlCl3', 'Al(PO3)3']\n",
    "Zn_Oxides = ['ZnO']\n",
    "Zn_Acids = ['Zn+H2SO4', 'Zn+HCl']\n",
    "Zn_Salts = ['ZnS', 'ZnCl2', 'Zn3As2']\n",
    "Fe_Oxides = ['FeO', 'Fe2O3']\n",
    "Fe_Acids = ['Fe+H2SO4']\n",
    "Fe_Salts = ['FeSO4', 'Fe2(SO4)3', 'FeCl3']\n",
    "\n",
    "my_data = {'Al': {'Oxides': Al_Oxides,'Acids': Al_Acids, 'Salts': Al_Salts}, \n",
    "           'Zn': {'Oxides': Zn_Oxides, 'Acids': Zn_Acids, 'Salts': Zn_Salts},\n",
    "           'Fe': {'Oxides': Fe_Oxides, 'Acids': Fe_Acids, 'Salts': Fe_Salts}}\n",
    "\n",
    "\n",
    "def get_compounds(element,data=None):\n",
    "    \"\"\"\n",
    "    for the given element, get_compounds returns compounds that contain that element.\n",
    "    \n",
    "    Parameters\n",
    "    ----------\n",
    "    element: String\n",
    "    \n",
    "    my_data: dictionary\n",
    "        contains 3 elements (key)\n",
    "        W/in each element:\n",
    "             oxides, acids, and salts (key)\n",
    "             list of compounds (values of ^keys)\n",
    "    \"\"\"\n",
    "    \n",
    "    if data is None:\n",
    "        data = my_data\n",
    "    \n",
    "    return data[element]"
   ]
  },
  {
   "cell_type": "code",
   "execution_count": 61,
   "metadata": {
    "collapsed": true
   },
   "outputs": [],
   "source": [
    "from IPython.display import display"
   ]
  },
  {
   "cell_type": "code",
   "execution_count": 62,
   "metadata": {
    "collapsed": false
   },
   "outputs": [],
   "source": [
    "\"\"\"\n",
    "Define element_select as dropdown menu\n",
    "\n",
    "Options\n",
    "-------\n",
    "Al\n",
    "Zn\n",
    "Fe\n",
    "\n",
    "Value\n",
    "-----\n",
    "Al\n",
    "\n",
    "Description\n",
    "-----------\n",
    "Element\n",
    "\n",
    "\"\"\"\n",
    "element_select = widgets.Dropdown(\n",
    "    options=['Al', 'Zn', 'Fe'],\n",
    "    value = 'Al',\n",
    "    description='Element:',\n",
    ")\n",
    "display(element_select)"
   ]
  },
  {
   "cell_type": "code",
   "execution_count": 63,
   "metadata": {
    "collapsed": false
   },
   "outputs": [
    {
     "data": {
      "text/plain": [
       "'Al'"
      ]
     },
     "execution_count": 63,
     "metadata": {},
     "output_type": "execute_result"
    }
   ],
   "source": [
    "element_select.value"
   ]
  },
  {
   "cell_type": "code",
   "execution_count": 64,
   "metadata": {
    "collapsed": false
   },
   "outputs": [
    {
     "data": {
      "text/plain": [
       "{'Acids': ['Al+H2SO4'],\n",
       " 'Oxides': ['Al2O3', 'AlO2 + H2O'],\n",
       " 'Salts': ['Al2(SO4)3', 'AlCl3', 'Al(PO3)3']}"
      ]
     },
     "execution_count": 64,
     "metadata": {},
     "output_type": "execute_result"
    }
   ],
   "source": [
    "\"\"\"\n",
    "Call function get_compounds and use it on the selected element\n",
    "\"\"\"\n",
    "get_compounds(element_select.value)\n",
    "\n",
    "#Why are they out of order?"
   ]
  },
  {
   "cell_type": "code",
   "execution_count": 65,
   "metadata": {
    "collapsed": false
   },
   "outputs": [],
   "source": [
    "\"\"\"\n",
    "Create a function get_chem that returns selected compounds of selected element\n",
    "\n",
    "Parameters\n",
    "----------\n",
    "chemical: string\n",
    "\n",
    "data\n",
    "\n",
    "\"\"\"\n",
    "\n",
    "def get_chem(chemical, dat=None):\n",
    "    if dat is None:\n",
    "        dat = my_data\n",
    "    return dat[chemical]"
   ]
  },
  {
   "cell_type": "code",
   "execution_count": 66,
   "metadata": {
    "collapsed": false
   },
   "outputs": [],
   "source": [
    "\"\"\"\n",
    "Define comtype_select as dropdown menu\n",
    "\n",
    "Options\n",
    "-------\n",
    "Oxides\n",
    "Acids\n",
    "Salts\n",
    "\n",
    "Value\n",
    "-----\n",
    "Oxides\n",
    "\n",
    "Description\n",
    "-----------\n",
    "Type of compound\n",
    "\n",
    "\"\"\"\n",
    "\n",
    "comtype_select = widgets.Dropdown(\n",
    "    options=['Oxides', 'Salts', 'Acids'],\n",
    "    value = 'Salts',\n",
    "    description = 'Type of compound:',\n",
    ")\n",
    "display(comtype_select)"
   ]
  },
  {
   "cell_type": "code",
   "execution_count": 67,
   "metadata": {
    "collapsed": false
   },
   "outputs": [
    {
     "data": {
      "text/plain": [
       "'Salts'"
      ]
     },
     "execution_count": 67,
     "metadata": {},
     "output_type": "execute_result"
    }
   ],
   "source": [
    "comtype_select.value"
   ]
  },
  {
   "cell_type": "code",
   "execution_count": 68,
   "metadata": {
    "collapsed": false
   },
   "outputs": [
    {
     "ename": "NameError",
     "evalue": "name 'comptype_select' is not defined",
     "output_type": "error",
     "traceback": [
      "\u001b[0;31m---------------------------------------------------------------------------\u001b[0m",
      "\u001b[0;31mNameError\u001b[0m                                 Traceback (most recent call last)",
      "\u001b[0;32m<ipython-input-68-ee0c987ac87f>\u001b[0m in \u001b[0;36m<module>\u001b[0;34m()\u001b[0m\n\u001b[0;32m----> 1\u001b[0;31m \u001b[0mget_chem\u001b[0m\u001b[0;34m(\u001b[0m\u001b[0mcomptype_select\u001b[0m\u001b[0;34m.\u001b[0m\u001b[0mvalue\u001b[0m\u001b[0;34m)\u001b[0m\u001b[0;34m\u001b[0m\u001b[0m\n\u001b[0m",
      "\u001b[0;31mNameError\u001b[0m: name 'comptype_select' is not defined"
     ]
    }
   ],
   "source": [
    "get_chem(comptype_select.value)"
   ]
  }
 ],
 "metadata": {
  "kernelspec": {
   "display_name": "Python 2",
   "language": "python",
   "name": "python2"
  },
  "language_info": {
   "codemirror_mode": {
    "name": "ipython",
    "version": 2
   },
   "file_extension": ".py",
   "mimetype": "text/x-python",
   "name": "python",
   "nbconvert_exporter": "python",
   "pygments_lexer": "ipython2",
   "version": "2.7.11"
  }
 },
 "nbformat": 4,
 "nbformat_minor": 0
}
