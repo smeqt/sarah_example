{
 "cells": [
  {
   "cell_type": "code",
   "execution_count": 1,
   "metadata": {
    "collapsed": false
   },
   "outputs": [
    {
     "data": {
      "application/javascript": [
       "$('div.input').hide();"
      ],
      "text/plain": [
       "<IPython.core.display.Javascript object>"
      ]
     },
     "metadata": {},
     "output_type": "display_data"
    },
    {
     "data": {
      "application/javascript": [
       "$('div.input').show();"
      ],
      "text/plain": [
       "<IPython.core.display.Javascript object>"
      ]
     },
     "metadata": {},
     "output_type": "display_data"
    },
    {
     "data": {
      "application/javascript": [
       "$('div.input').hide();"
      ],
      "text/plain": [
       "<IPython.core.display.Javascript object>"
      ]
     },
     "metadata": {},
     "output_type": "display_data"
    },
    {
     "data": {
      "application/javascript": [
       "$('div.input').show();"
      ],
      "text/plain": [
       "<IPython.core.display.Javascript object>"
      ]
     },
     "metadata": {},
     "output_type": "display_data"
    }
   ],
   "source": [
    "import ipywidgets as widgets\n",
    "from IPython.display import clear_output, HTML, display, Javascript\n",
    "cells_visable = True\n",
    "def toggle_code_cells(btn):\n",
    "    global cells_visable\n",
    "    if cells_visable:\n",
    "        display(Javascript(\"$('div.input').hide();\"))\n",
    "        btn.description = \"Show Code Cells\"\n",
    "    else:\n",
    "        display(Javascript(\"$('div.input').show();\"))\n",
    "        btn.description = \"Hide Code Cells\"\n",
    "    cells_visable = not cells_visable\n",
    "    \n",
    "\n",
    "toggle_btn = widgets.Button(description=\"Hide Code Cells\")\n",
    "toggle_btn.on_click(toggle_code_cells)\n",
    "\n",
    "display(toggle_btn)\n"
   ]
  },
  {
   "cell_type": "code",
   "execution_count": 2,
   "metadata": {
    "collapsed": false
   },
   "outputs": [],
   "source": [
    "class component_row(object):\n",
    "    \"\"\"\n",
    "    create a row\n",
    "    \"\"\"    \n",
    "    \n",
    "    def __init__(self):\n",
    "                \n",
    "        \n",
    "        #elemenets\n",
    "        self._element = widgets.Dropdown(options=['','a','b','c'],value='',description='Element:',width=20)\n",
    "        \n",
    "        #blank compound list\n",
    "        self._compound = widgets.Dropdown(options=[],description=' Compound ',width=180)\n",
    "        \n",
    "        \n",
    "        #blank mass fraction\n",
    "        self._massfrac = widgets.BoundedFloatText(description=' mass frac:',width=75,min=0.,max=1.)\n",
    "        \n",
    "        #blank min\n",
    "        self._massfrac_min = widgets.BoundedFloatText(description=' min:',width=75,min=0.,max=1.)\n",
    "        \n",
    "        #max\n",
    "        self._massfrac_max = widgets.BoundedFloatText(description=' max:',width=75,min=0.,max=1.)\n",
    "        \n",
    "        \n",
    "        #monitor element\n",
    "        self._element.observe(self.populate_compound)\n",
    "        self._box = widgets.HBox()\n",
    "        self._box.children = (self._element,self._compound,self._massfrac,self._massfrac_min,self._massfrac_max)\n",
    "        \n",
    "    def populate_compound(self,sender,*args,**kwargs):\n",
    "        \n",
    "        v = self.element\n",
    "        out = None\n",
    "        if v=='a':\n",
    "            out = [1,2,3]\n",
    "        elif v =='b':\n",
    "            out = [10,20,30]\n",
    "        elif v == 'c':\n",
    "            out = [100,200,300]\n",
    "            \n",
    "        if out is not None:\n",
    "            self._compound.options = list(map(str,out))\n",
    "        \n",
    "        \n",
    "    @property\n",
    "    def element(self):\n",
    "        return self._element.value\n",
    "    \n",
    "    @property\n",
    "    def compound(self):\n",
    "        return self._compound.value\n",
    "    \n",
    "    @property\n",
    "    def massfrac(self):\n",
    "        return self._massfrac.value\n",
    "    \n",
    "    @property\n",
    "    def massfrac_min(self):\n",
    "        return self._massfrac_min.value\n",
    "    \n",
    "    @property\n",
    "    def massfrac_max(self):\n",
    "        return self._massfrac_max.value\n",
    "    \n",
    "    def display(self):\n",
    "        return x._box\n",
    "    "
   ]
  },
  {
   "cell_type": "code",
   "execution_count": 6,
   "metadata": {
    "collapsed": false
   },
   "outputs": [],
   "source": [
    "class mult_rows(object):\n",
    "    \n",
    "    def __init__(self):\n",
    "        self._ncomp = widgets.Text(description='# comp:',value='1',width=50)\n",
    "        \n",
    "        self._ncomp.on_submit(self.setup_rows)\n",
    "        \n",
    "        #intial box setup\n",
    "        self._rows = []\n",
    "        \n",
    "        self._box = widgets.VBox()\n",
    "        self.update_box()\n",
    "        \n",
    "    def setup_rows(self,*args):\n",
    "        try:\n",
    "            v = int(self._ncomp.value)\n",
    "        except:\n",
    "            return\n",
    "        if v != len(self._rows):\n",
    "            self._rows = []\n",
    "            for i in range(v):\n",
    "                self._rows.append(component_row())\n",
    "        self.update_box()\n",
    "        \n",
    "    def update_box(self):\n",
    "        L = [self._ncomp] + [r._box for r in self._rows]\n",
    "        self._box.children = tuple(L)\n",
    "            \n",
    "        \n",
    "    def display(self):\n",
    "        return self._box"
   ]
  },
  {
   "cell_type": "code",
   "execution_count": 4,
   "metadata": {
    "collapsed": true
   },
   "outputs": [],
   "source": [
    "#x = component_row()\n",
    "#x.display()"
   ]
  },
  {
   "cell_type": "code",
   "execution_count": 7,
   "metadata": {
    "collapsed": false
   },
   "outputs": [],
   "source": [
    "y = mult_rows()\n",
    "\n",
    "y.display()"
   ]
  },
  {
   "cell_type": "code",
   "execution_count": null,
   "metadata": {
    "collapsed": true
   },
   "outputs": [],
   "source": []
  }
 ],
 "metadata": {
  "kernelspec": {
   "display_name": "Python 3",
   "language": "python",
   "name": "python3"
  },
  "language_info": {
   "codemirror_mode": {
    "name": "ipython",
    "version": 3
   },
   "file_extension": ".py",
   "mimetype": "text/x-python",
   "name": "python",
   "nbconvert_exporter": "python",
   "pygments_lexer": "ipython3",
   "version": "3.5.1"
  }
 },
 "nbformat": 4,
 "nbformat_minor": 0
}
