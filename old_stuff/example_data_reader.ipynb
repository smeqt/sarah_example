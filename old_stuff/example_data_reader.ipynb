{
 "cells": [
  {
   "cell_type": "code",
   "execution_count": 1,
   "metadata": {
    "collapsed": true
   },
   "outputs": [],
   "source": [
    "import pandas as pd"
   ]
  },
  {
   "cell_type": "code",
   "execution_count": 2,
   "metadata": {
    "collapsed": true
   },
   "outputs": [],
   "source": [
    "df_acids = pd.read_csv('./data/acid.csv')"
   ]
  },
  {
   "cell_type": "code",
   "execution_count": 30,
   "metadata": {
    "collapsed": false,
    "scrolled": false
   },
   "outputs": [],
   "source": [
    "df_oxides = pd.read_csv('./data/oxide.csv')\n",
    "df_salts = pd.read_csv('./data/salt.csv')"
   ]
  },
  {
   "cell_type": "code",
   "execution_count": 34,
   "metadata": {
    "collapsed": false
   },
   "outputs": [],
   "source": [
    "unique_elements_oxides = df_oxides.Target.unique()\n",
    "unique_elements_salts = df_salts.Target.unique()"
   ]
  },
  {
   "cell_type": "code",
   "execution_count": 35,
   "metadata": {
    "collapsed": false
   },
   "outputs": [],
   "source": [
    "def get_element(df,element):\n",
    "    return df[df['Target']==element].Formula.unique()\n"
   ]
  },
  {
   "cell_type": "code",
   "execution_count": 38,
   "metadata": {
    "collapsed": false
   },
   "outputs": [
    {
     "data": {
      "text/plain": [
       "array(['Ac', 'Br', 'Cl', 'F', 'I', 'O', 'Al', 'C', 'H', 'N', 'S', 'Sb',\n",
       "       'As', 'B', 'Si', 'P', 'Mo', 'Se', 'Te', 'Ti', 'Zr', 'Am', 'Cr',\n",
       "       'Co', 'Cu', 'Fe', 'Ta', 'Os', 'Pt', 'Ir', 'Pd', 'Ru', 'Ga', 'Ge',\n",
       "       'Mg', 'Hg', 'W', 'V', 'Rh', 'Zn', 'Mn', 'Re', 'U', 'K', 'Ar', 'At',\n",
       "       'Ba', 'Bi', 'Ca', 'Y', 'Nb', 'Pb', 'Na', 'Sn', 'Sr', 'Bk', 'Be',\n",
       "       'Au', 'Cd', 'Cf', 'Ce', 'Cs', 'Cm', 'Gd', 'Hf', 'Dy', 'Es', 'Er',\n",
       "       'Eu', 'Fm', 'Fr', 'He', 'Ho', 'T', 'D', 'In', 'Kr', 'La', 'Lr',\n",
       "       'Li', 'Lu', 'Md', 'Nd', 'Ne', 'Np', 'Ni', 'No', 'Pu', 'Po', 'Rb',\n",
       "       'Sm', 'Sc', 'Ag', 'Pr', 'Pm', 'Pa', 'Ra', 'Rn', 'Tl', 'Tc', 'Tb',\n",
       "       'Th', 'Tm', 'Xe', 'Yb'], dtype=object)"
      ]
     },
     "execution_count": 38,
     "metadata": {},
     "output_type": "execute_result"
    }
   ],
   "source": [
    "unique_elements_salts"
   ]
  },
  {
   "cell_type": "code",
   "execution_count": 41,
   "metadata": {
    "collapsed": false
   },
   "outputs": [
    {
     "data": {
      "text/plain": [
       "array(['KAg(CN)2', 'Ag', 'AgC2H3O2', 'Ag2C2', 'AgC2H', 'Ag3AsO4', 'AgN3',\n",
       "       'Ag(C6H5CO2)', 'AgBrO3', 'AgBr', 'Ag2CO3', 'AgClO3', 'AgCl',\n",
       "       'AgClO2', 'Ag2CrO4', 'Ag3C6H5O7', 'AgCN', 'Ag2Cr2O7',\n",
       "       'Ag(C2H5)2NCS2', 'AgF', 'AgF2', 'AgSbF6', 'AgAsF6', 'AgPF6',\n",
       "       'AgHF2', 'AgIO3', 'AgI', 'AgC3H5O3+H2O', 'AgPO3', 'Ag2MoO4',\n",
       "       'AgNO3', 'AgNO2', 'Ag2C2O4', 'Ag2O2', 'Ag2O', 'AgO', 'AgClO4',\n",
       "       'AgClO4+H2O', 'AgMnO4', 'Ag3PO4', 'AgC6H2N3O7+H2O', 'Ag2SeO4',\n",
       "       'Ag2Se', 'Ag2SeO3', 'Ag2F', 'Ag2SO4', 'Ag2S', 'Ag2SO3', 'Ag2Te',\n",
       "       'Ag2HgI4', 'AgSCN', 'Ag2S2O3', 'Ag2WO4'], dtype=object)"
      ]
     },
     "execution_count": 41,
     "metadata": {},
     "output_type": "execute_result"
    }
   ],
   "source": [
    "get_element(df_salts,'Ag')"
   ]
  },
  {
   "cell_type": "code",
   "execution_count": null,
   "metadata": {
    "collapsed": true
   },
   "outputs": [],
   "source": [
    "#create my_data dictionary\n",
    "#my_data[element]['Oxide'] = []"
   ]
  }
 ],
 "metadata": {
  "kernelspec": {
   "display_name": "Python 2",
   "language": "python",
   "name": "python2"
  },
  "language_info": {
   "codemirror_mode": {
    "name": "ipython",
    "version": 2
   },
   "file_extension": ".py",
   "mimetype": "text/x-python",
   "name": "python",
   "nbconvert_exporter": "python",
   "pygments_lexer": "ipython2",
   "version": "2.7.11"
  }
 },
 "nbformat": 4,
 "nbformat_minor": 0
}
