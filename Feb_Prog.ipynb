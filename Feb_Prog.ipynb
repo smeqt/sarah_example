{
 "cells": [
  {
   "cell_type": "code",
   "execution_count": 22,
   "metadata": {
    "collapsed": true
   },
   "outputs": [],
   "source": [
    "import periodictable as PT"
   ]
  },
  {
   "cell_type": "code",
   "execution_count": 24,
   "metadata": {
    "collapsed": true
   },
   "outputs": [],
   "source": [
    "from ipywidgets import *\n",
    "\n",
    "import ipywidgets as widgets"
   ]
  },
  {
   "cell_type": "code",
   "execution_count": 16,
   "metadata": {
    "collapsed": false
   },
   "outputs": [],
   "source": [
    "my_data = {'Al': {'Oxides': ['Al2O3'],'Acids': ['Al+H2SO4'], 'Salts':['Al2(SO4)3', 'AlCl3', 'Al(PO3)3']}, \n",
    "           'Zn': {'Oxides': ['ZnO'], 'Acids': ['Zn+H2SO4', 'Zn+HCl'], 'Salts': ['ZnS', 'ZnCl2', 'Zn3As2']},\n",
    "           'Fe': {'Oxides': ['FeO', 'Fe2O3'], 'Acids':['Fe+H2SO4'], 'Salts': ['FeSO4', 'Fe2(SO4)3', 'FeCl3'] }}\n",
    "def get_compounds(element,data=None):\n",
    "    \"\"\"\n",
    "    for the given element, get_compound returns compounds that contain that element.\n",
    "    \n",
    "    Parameters\n",
    "    ----------\n",
    "    element: String\n",
    "    \n",
    "    my_data: dictionary\n",
    "        contains 3 elements (key)\n",
    "        W/in each element:\n",
    "             oxides, acids, and salts (key)\n",
    "             list of compounds (values of ^keys)\n",
    "    \"\"\"\n",
    "    \n",
    "    if data is None:\n",
    "        data = my_data\n",
    "    \n",
    "    return data[element]"
   ]
  },
  {
   "cell_type": "code",
   "execution_count": null,
   "metadata": {
    "collapsed": true
   },
   "outputs": [],
   "source": []
  }
 ],
 "metadata": {
  "kernelspec": {
   "display_name": "Python 2",
   "language": "python",
   "name": "python2"
  },
  "language_info": {
   "codemirror_mode": {
    "name": "ipython",
    "version": 2
   },
   "file_extension": ".py",
   "mimetype": "text/x-python",
   "name": "python",
   "nbconvert_exporter": "python",
   "pygments_lexer": "ipython2",
   "version": "2.7.11"
  }
 },
 "nbformat": 4,
 "nbformat_minor": 0
}
