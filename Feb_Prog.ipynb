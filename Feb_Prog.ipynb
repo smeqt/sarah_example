{
 "cells": [
  {
   "cell_type": "code",
   "execution_count": 100,
   "metadata": {
    "collapsed": true
   },
   "outputs": [],
   "source": [
    "import periodictable as PT"
   ]
  },
  {
   "cell_type": "code",
   "execution_count": 101,
   "metadata": {
    "collapsed": true
   },
   "outputs": [],
   "source": [
    "from ipywidgets import *\n",
    "\n",
    "import ipywidgets as widgets"
   ]
  },
  {
   "cell_type": "code",
   "execution_count": 102,
   "metadata": {
    "collapsed": false
   },
   "outputs": [],
   "source": [
    "\"\"\"\n",
    "Define multiple variables that store info a/b elements & their oxides, acids, and salts\n",
    "\n",
    "Create dictionary, my_data, w/ keys Al, Zn, and Fe w/ corresponding oxides, acids, salts\n",
    "\"\"\"\n",
    "\n",
    "Al_Oxides = ['Al2O3', 'AlO2 + H2O']\n",
    "Al_Acids = ['Al+H2SO4']\n",
    "Al_Salts = ['Al2(SO4)3', 'AlCl3', 'Al(PO3)3']\n",
    "Zn_Oxides = ['ZnO']\n",
    "Zn_Acids = ['Zn+H2SO4', 'Zn+HCl']\n",
    "Zn_Salts = ['ZnS', 'ZnCl2', 'Zn3As2']\n",
    "Fe_Oxides = ['FeO', 'Fe2O3']\n",
    "Fe_Acids = ['Fe+H2SO4']\n",
    "Fe_Salts = ['FeSO4', 'Fe2(SO4)3', 'FeCl3']\n",
    "\n",
    "my_data = {'Al': {'Oxides': Al_Oxides,'Acids': Al_Acids, 'Salts': Al_Salts}, \n",
    "           'Zn': {'Oxides': Zn_Oxides, 'Acids': Zn_Acids, 'Salts': Zn_Salts},\n",
    "           'Fe': {'Oxides': Fe_Oxides, 'Acids': Fe_Acids, 'Salts': Fe_Salts}}\n",
    "\n",
    "\n",
    "def get_compounds(element,data=None):\n",
    "    \"\"\"\n",
    "    for the given element, get_compound returns compounds that contain that element.\n",
    "    \n",
    "    Parameters\n",
    "    ----------\n",
    "    element: String\n",
    "    \n",
    "    my_data: dictionary\n",
    "        contains 3 elements (key)\n",
    "        W/in each element:\n",
    "             oxides, acids, and salts (key)\n",
    "             list of compounds (values of ^keys)\n",
    "    \"\"\"\n",
    "    \n",
    "    if data is None:\n",
    "        data = my_data\n",
    "    \n",
    "    return data[element]"
   ]
  },
  {
   "cell_type": "code",
   "execution_count": 103,
   "metadata": {
    "collapsed": true
   },
   "outputs": [],
   "source": [
    "from IPython.display import display"
   ]
  },
  {
   "cell_type": "code",
   "execution_count": 104,
   "metadata": {
    "collapsed": false
   },
   "outputs": [],
   "source": [
    "\"\"\"\n",
    "Define element_select as dropdown menu\n",
    "\n",
    "Options\n",
    "-------\n",
    "Al\n",
    "Zn\n",
    "Fe\n",
    "\n",
    "Value\n",
    "-----\n",
    "Al\n",
    "\n",
    "Description\n",
    "-----------\n",
    "Element\n",
    "\n",
    "\"\"\"\n",
    "element_select = widgets.Dropdown(\n",
    "    options=['Al', 'Zn', 'Fe'],\n",
    "    value = 'Al',\n",
    "    description='Element:',\n",
    ")\n",
    "display(element_select)"
   ]
  },
  {
   "cell_type": "code",
   "execution_count": 109,
   "metadata": {
    "collapsed": false
   },
   "outputs": [
    {
     "ename": "KeyError",
     "evalue": "<ipywidgets.widgets.widget_selection.Dropdown object at 0x10442c190>",
     "output_type": "error",
     "traceback": [
      "\u001b[0;31m---------------------------------------------------------------------------\u001b[0m",
      "\u001b[0;31mKeyError\u001b[0m                                  Traceback (most recent call last)",
      "\u001b[0;32m<ipython-input-109-44ca8fb7a2ba>\u001b[0m in \u001b[0;36m<module>\u001b[0;34m()\u001b[0m\n\u001b[1;32m      2\u001b[0m Use get_compounds to get the compounds that correspond to the element the user inputs above\"\"\"\n\u001b[1;32m      3\u001b[0m \u001b[0;34m\u001b[0m\u001b[0m\n\u001b[0;32m----> 4\u001b[0;31m \u001b[0mget_element\u001b[0m \u001b[0;34m=\u001b[0m \u001b[0mget_compounds\u001b[0m\u001b[0;34m(\u001b[0m\u001b[0melement_select\u001b[0m\u001b[0;34m)\u001b[0m\u001b[0;34m\u001b[0m\u001b[0m\n\u001b[0m",
      "\u001b[0;32m<ipython-input-102-473bfb0f3b63>\u001b[0m in \u001b[0;36mget_compounds\u001b[0;34m(element, data)\u001b[0m\n\u001b[1;32m     38\u001b[0m         \u001b[0mdata\u001b[0m \u001b[0;34m=\u001b[0m \u001b[0mmy_data\u001b[0m\u001b[0;34m\u001b[0m\u001b[0m\n\u001b[1;32m     39\u001b[0m \u001b[0;34m\u001b[0m\u001b[0m\n\u001b[0;32m---> 40\u001b[0;31m     \u001b[0;32mreturn\u001b[0m \u001b[0mdata\u001b[0m\u001b[0;34m[\u001b[0m\u001b[0melement\u001b[0m\u001b[0;34m]\u001b[0m\u001b[0;34m\u001b[0m\u001b[0m\n\u001b[0m",
      "\u001b[0;31mKeyError\u001b[0m: <ipywidgets.widgets.widget_selection.Dropdown object at 0x10442c190>"
     ]
    }
   ],
   "source": [
    "\"\"\"\n",
    "Use get_compounds to get the compounds that correspond to the element the user inputs above\"\"\"\n",
    "\n",
    "get_element = get_compounds(element_select)"
   ]
  },
  {
   "cell_type": "code",
   "execution_count": null,
   "metadata": {
    "collapsed": false
   },
   "outputs": [],
   "source": [
    "\"\"\"\n",
    "Define comtype_select as dropdown menu\n",
    "\n",
    "Options\n",
    "-------\n",
    "Oxides\n",
    "Acids\n",
    "Salts\n",
    "\n",
    "Value\n",
    "-----\n",
    "Oxides\n",
    "\n",
    "Description\n",
    "-----------\n",
    "Type of compound\n",
    "\n",
    "\"\"\"\n",
    "\n",
    "comtype_select = widgets.Dropdown(\n",
    "    options=['Oxide', 'Acid', 'Salt'],\n",
    "    value = 'Salt',\n",
    "    description = 'Type of compound:',\n",
    ")\n",
    "display(comtype_select)"
   ]
  },
  {
   "cell_type": "code",
   "execution_count": null,
   "metadata": {
    "collapsed": false
   },
   "outputs": [],
   "source": [
    "comtype_select.value"
   ]
  }
 ],
 "metadata": {
  "kernelspec": {
   "display_name": "Python 2",
   "language": "python",
   "name": "python2"
  },
  "language_info": {
   "codemirror_mode": {
    "name": "ipython",
    "version": 2
   },
   "file_extension": ".py",
   "mimetype": "text/x-python",
   "name": "python",
   "nbconvert_exporter": "python",
   "pygments_lexer": "ipython2",
   "version": "2.7.11"
  }
 },
 "nbformat": 4,
 "nbformat_minor": 0
}
