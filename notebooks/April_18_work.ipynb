{
 "cells": [
  {
   "cell_type": "code",
   "execution_count": 31,
   "metadata": {
    "collapsed": true
   },
   "outputs": [],
   "source": [
    "import sarah_example.combo_widgets as combo_widgets"
   ]
  },
  {
   "cell_type": "code",
   "execution_count": 32,
   "metadata": {
    "collapsed": false
   },
   "outputs": [
    {
     "data": {
      "text/plain": [
       "<module 'sarah_example.combo_widgets' from '/Users/Sarah/Documents/python/sarah_example/combo_widgets.py'>"
      ]
     },
     "execution_count": 32,
     "metadata": {},
     "output_type": "execute_result"
    }
   ],
   "source": [
    "reload(combo_widgets)"
   ]
  },
  {
   "cell_type": "code",
   "execution_count": 33,
   "metadata": {
    "collapsed": false
   },
   "outputs": [],
   "source": [
    "combo_widgets.init()"
   ]
  },
  {
   "cell_type": "code",
   "execution_count": 35,
   "metadata": {
    "collapsed": false
   },
   "outputs": [],
   "source": [
    "c = combo_widgets.mult_rows()\n",
    "c.display()"
   ]
  },
  {
   "cell_type": "code",
   "execution_count": 12,
   "metadata": {
    "collapsed": true
   },
   "outputs": [],
   "source": [
    "import sarah_example.suggester_interface as SG"
   ]
  },
  {
   "cell_type": "code",
   "execution_count": 17,
   "metadata": {
    "collapsed": false
   },
   "outputs": [
    {
     "data": {
      "text/plain": [
       "[u'Al',\n",
       " u'Al(C2H3O2)3',\n",
       " u'AlNH4(SO4)2',\n",
       " u'AlNH4(SO4)2+12H2O',\n",
       " u'AlSb',\n",
       " u'AlAs',\n",
       " u'2Al2O3+B2O3',\n",
       " u'Al(BH4)3',\n",
       " u'Al(BrO3)3+9H2O',\n",
       " u'AlBr3',\n",
       " u'AlBr3+6H2O',\n",
       " u'Al4C3',\n",
       " u'Al(ClO3)3+9H2O',\n",
       " u'AlCl3',\n",
       " u'AlCl3+6H2O',\n",
       " u'Al(OH)(C2H3O2)2',\n",
       " u'AlB2',\n",
       " u'Al(OH)(C18H35O2)2',\n",
       " u'AlB12',\n",
       " u'Al(C2H5O)3',\n",
       " u'AlF3',\n",
       " u'AlF3+H2O',\n",
       " u'AlF3+3H2O',\n",
       " u'Al2(SiF6)3+9H2O',\n",
       " u'AlH3',\n",
       " u'Al(OH)3',\n",
       " u'Al2(OH)5Cl+2H2O',\n",
       " u'Al(H2PO2)3',\n",
       " u'AlI3',\n",
       " u'AlI3+6H2O',\n",
       " u'Al(C3H5O3)3',\n",
       " u'Al(PO3)3',\n",
       " u'Al2(MoO4)3',\n",
       " u'Al(OH)2(C18H35O2)',\n",
       " u'Al(NO3)3',\n",
       " u'Al(NO3)3+9H2O',\n",
       " u'AlN',\n",
       " u'Al(C18H33O2)3',\n",
       " u'Al2(C2O4)3+H2O',\n",
       " u'Al2O3',\n",
       " u'Al2O3',\n",
       " u'AlO(OH)',\n",
       " u'AlO(OH)',\n",
       " u'Al(C15H31COO)3',\n",
       " u'Al(CH3COCHCOCH3)3',\n",
       " u'Al(ClO4)3',\n",
       " u'Al(ClO4)3+9H2O',\n",
       " u'AlPO4',\n",
       " u'AlPO4+2H2O',\n",
       " u'Al2(OH)3PO4',\n",
       " u'AlP',\n",
       " u'Al2Se3',\n",
       " u'Al2SiO5',\n",
       " u'Al2SiO5',\n",
       " u'3Al2O3+2SiO2',\n",
       " u'Al2SiO5',\n",
       " u'Al2O3+2SiO2+2H2O',\n",
       " u'Al(C18H35O2)3',\n",
       " u'Al2(SO4)3',\n",
       " u'Al2(SO4)3+18H2O',\n",
       " u'Al2S3',\n",
       " u'Al2Te3',\n",
       " u'Al(SCN)3',\n",
       " u'Al2TiO5',\n",
       " u'Al2Zr',\n",
       " u'(NH4)3AlF6',\n",
       " u'NH4AlCl4',\n",
       " u'BaAl2O4',\n",
       " u'BaAl4',\n",
       " u'BeAl2O4',\n",
       " u'Be3Al2(SiO3)6',\n",
       " u'CaAl2O4',\n",
       " u'Ca3Al2O6',\n",
       " u'Ca(AlH4)2',\n",
       " u'CsAl(SO4)2+12H2O',\n",
       " u'CoAl2O4',\n",
       " u'AlCl(C2H5)2',\n",
       " u'AlCl(C4H9)2',\n",
       " u'Fe(AlO2)2',\n",
       " u'LaAlO3',\n",
       " u'LiAlH4',\n",
       " u'LiAlSi2O6',\n",
       " u'Mg(AlO2)2',\n",
       " u'Mg2Al3(AlSi5O18)',\n",
       " u'AlCl2CH3',\n",
       " u'NiAl',\n",
       " u'K2Al2O4+3H2O',\n",
       " u'KAlSi3O8',\n",
       " u'KAl(SO4)2',\n",
       " u'KAl(SO4)2+12H2O',\n",
       " u'RbAl(SO4)2',\n",
       " u'RbAl(SO4)2+12H2O',\n",
       " u'NaAlO2',\n",
       " u'NaAlH4',\n",
       " u'NaAl(SO4)2+12H2O',\n",
       " u'Na3AlF6',\n",
       " u'NaAlCl4',\n",
       " u'TaAl3',\n",
       " u'Y3Al5O12']"
      ]
     },
     "execution_count": 17,
     "metadata": {},
     "output_type": "execute_result"
    }
   ],
   "source": [
    "SG.get_compound_list('Al','salt')"
   ]
  },
  {
   "cell_type": "code",
   "execution_count": null,
   "metadata": {
    "collapsed": true
   },
   "outputs": [],
   "source": []
  }
 ],
 "metadata": {
  "kernelspec": {
   "display_name": "Python 2",
   "language": "python",
   "name": "python2"
  },
  "language_info": {
   "codemirror_mode": {
    "name": "ipython",
    "version": 2
   },
   "file_extension": ".py",
   "mimetype": "text/x-python",
   "name": "python",
   "nbconvert_exporter": "python",
   "pygments_lexer": "ipython2",
   "version": "2.7.11"
  }
 },
 "nbformat": 4,
 "nbformat_minor": 0
}
